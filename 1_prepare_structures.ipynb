{
 "cells": [
  {
   "cell_type": "markdown",
   "id": "ac92b81b-e6f0-4daa-ba6e-a9ae0b2daab5",
   "metadata": {},
   "source": [
    "# Script to prepare protein structures\n",
    "\n",
    "- Protonates and charges proteins using Amber ff14SB."
   ]
  },
  {
   "cell_type": "code",
   "execution_count": 1,
   "id": "3421305d-a6bd-4705-8bc0-c2bffb234135",
   "metadata": {},
   "outputs": [],
   "source": [
    "# Imports\n",
    "import contextlib\n",
    "import os\n",
    "import subprocess\n",
    "import sys\n",
    "from pathlib import Path\n",
    "\n",
    "from tqdm import tqdm\n",
    "\n",
    "import AutoDockTools\n",
    "from meeko import MoleculePreparation, obutils\n",
    "from openbabel import pybel\n",
    "from parmed import load_file"
   ]
  },
  {
   "cell_type": "code",
   "execution_count": 7,
   "id": "e6887b93-7f82-468b-a869-6080bf57da4f",
   "metadata": {},
   "outputs": [],
   "source": [
    "def supress_stdout(func):\n",
    "    def wrapper(*a, **ka):\n",
    "        with open(os.devnull, 'w') as devnull:\n",
    "            with contextlib.redirect_stdout(devnull):\n",
    "                return func(*a, **ka)\n",
    "    return wrapper\n",
    "\n",
    "def remove_hetatoms_and_waters(pdb_in: str, pdb_out: str):\n",
    "    with open(pdb_in, 'r') as f_in, open(pdb_out, 'w') as f_out:\n",
    "        for line in f_in:\n",
    "            if line.startswith(\"HETATM\"):\n",
    "                continue\n",
    "            else:\n",
    "                f_out.write(line)\n",
    "\n",
    "class PrepProt(object): \n",
    "    def __init__(self, pdb_file): \n",
    "        self.prot = pdb_file\n",
    "           \n",
    "    def run_leap(self, pdb_file: str, output_prefix: str):\n",
    "        leap_input = f\"\"\"\n",
    "source leaprc.protein.ff14SB\n",
    "protein = loadpdb \"{pdb_file}\"\n",
    "check protein\n",
    "saveamberparm protein {output_prefix}.prmtop {output_prefix}.inpcrd\n",
    "savepdb protein {output_prefix}_ff14sb.pdb\n",
    "quit\n",
    "\"\"\"\n",
    "        with open(\"leap.in\", \"w\") as f:\n",
    "            f.write(leap_input)\n",
    "    \n",
    "        result = subprocess.run(\n",
    "            [\"tleap\", \"-f\", \"leap.in\"],\n",
    "            stdout=subprocess.DEVNULL, stderr=subprocess.PIPE, text=True\n",
    "        )\n",
    "        if result.returncode != 0:\n",
    "            print(\"LEaP failed:\\n\", result.stderr)\n",
    "            raise RuntimeError(\"LEaP failed\")\n",
    "\n",
    "    def convert_to_pqr(self, prmtop: str, inpcrd: str, output_pqr: str):\n",
    "        structure = load_file(prmtop, inpcrd)\n",
    "        structure.save(output_pqr, format=\"pqr\", overwrite=True)\n",
    "        \n",
    "    def addH(self, base, prot_pqr):\n",
    "        self.prot_pqr = prot_pqr\n",
    "\n",
    "        remove_hetatoms_and_waters(self.prot, f\"{base}_nohetam.pdb\")\n",
    "        res=subprocess.run([\"pdb4amber\", \"-i\", f\"{base}_nohetam.pdb\", \"-o\", f\"{base}_clean.pdb\", \"--dry\", \"--nohyd\", \"--reduce\"],\n",
    "                       stdout=subprocess.DEVNULL, stderr=subprocess.DEVNULL\n",
    "                      )\n",
    "        \n",
    "        self.run_leap(f\"{base}_clean.pdb\", base)\n",
    "        self.convert_to_pqr(f\"{base}.prmtop\", f\"{base}.inpcrd\", f\"{base}.pqr\")\n",
    "    \n",
    "    def get_pdbqt(self, base, prot_pdbqt):\n",
    "        prepare_receptor = os.path.join(AutoDockTools.__path__[0], 'Utilities24/prepare_receptor4.py')\n",
    "        subprocess.Popen(['python3', prepare_receptor, '-r', self.prot_pqr, '-o', prot_pdbqt, '-C', '-U', 'waters_nonstdres'],\n",
    "                         stdout=subprocess.DEVNULL).communicate()#stderr=subprocess.DEVNULL, stdout=subprocess.DEVNULL).communicate()\n",
    "        # Cleanup\n",
    "        for fp in [f'{base}{suff}' for suff in ['_clean_nonprot.pdb',\n",
    "                                                '_clean_renum.txt',\n",
    "                                                '_clean_sslink',\n",
    "                                                '_clean_water.pdb',\n",
    "                                                '_clean.pdb',\n",
    "                                                '_ff14sb.pdb',\n",
    "                                                '_nohetam.pdb',\n",
    "                                                '.inpcrd',\n",
    "                                                '.pqr',\n",
    "                                                '.prmtop',\n",
    "                                               ]]:\n",
    "            if os.path.exists(fp):\n",
    "                os.remove(fp)\n",
    "        for fp in ['leap.in',\n",
    "                   'leap.log',\n",
    "                   'parmed.in',\n",
    "                   'reduce_info.log',\n",
    "                  ]:\n",
    "            if os.path.exists(fp):\n",
    "                os.remove(fp)"
   ]
  },
  {
   "cell_type": "code",
   "execution_count": 3,
   "id": "bc5adb97-b57c-4c4f-9a06-928c75da1d96",
   "metadata": {},
   "outputs": [],
   "source": [
    "# Load CASF-2016 baseline\n",
    "pdb_ids, affs = [], []\n",
    "with open('./data/CASF-2016/casf_2016.types', 'r') as f:\n",
    "    for line in f:\n",
    "        affs.append(line.strip().split()[1])\n",
    "        pdb_ids.append(line.strip().split()[-1].split('/')[0])"
   ]
  },
  {
   "cell_type": "code",
   "execution_count": 4,
   "id": "6bcdacfb-762d-4eaa-b3c9-2e3ac51094a5",
   "metadata": {
    "scrolled": true
   },
   "outputs": [
    {
     "name": "stderr",
     "output_type": "stream",
     "text": [
      "100%|███████████████████████████████████████████████████████████████████████████████████████████████████████████████████████████████████████████████████████████████████████████████████████████████████████| 285/285 [04:41<00:00,  1.01it/s]\n"
     ]
    }
   ],
   "source": [
    "# Prepare data\n",
    "for pdb_id in tqdm(pdb_ids):\n",
    "    protein_pqr = f'./data/CASF-2016/{pdb_id}/{pdb_id}_pocket.pqr'\n",
    "    protein_pdbqt = f'./data/CASF-2016/{pdb_id}/{pdb_id}_pocket.pdbqt'\n",
    "\n",
    "    prot = PrepProt(f'./data/CASF-2016/{pdb_id}/{pdb_id}_pocket.pdb')\n",
    "    prot.addH(protein_pqr[:-4], protein_pqr)\n",
    "    prot.get_pdbqt(protein_pqr[:-4], protein_pdbqt)"
   ]
  },
  {
   "cell_type": "code",
   "execution_count": 5,
   "id": "bc34fd30-7395-4e97-be20-6d9b79c4f9a8",
   "metadata": {},
   "outputs": [],
   "source": [
    "# Write new types file\n",
    "with open('./data/CASF-2016/casf_2016_prepared.types', 'w') as f:\n",
    "    for pdb_id, aff in zip(pdb_ids, affs):\n",
    "        f.write(f'1 {aff} {pdb_id}/{pdb_id}_pocket.pdbqt {pdb_id}/{pdb_id}_ligand.sdf\\n')"
   ]
  }
 ],
 "metadata": {
  "kernelspec": {
   "display_name": "Python 3 (ipykernel)",
   "language": "python",
   "name": "python3"
  },
  "language_info": {
   "codemirror_mode": {
    "name": "ipython",
    "version": 3
   },
   "file_extension": ".py",
   "mimetype": "text/x-python",
   "name": "python",
   "nbconvert_exporter": "python",
   "pygments_lexer": "ipython3",
   "version": "3.11.9"
  }
 },
 "nbformat": 4,
 "nbformat_minor": 5
}
