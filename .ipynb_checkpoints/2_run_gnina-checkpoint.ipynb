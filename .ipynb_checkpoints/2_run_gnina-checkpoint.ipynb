{
 "cells": [
  {
   "cell_type": "code",
   "execution_count": 1,
   "id": "dfa37fc4-97bb-4913-b625-6a6931687529",
   "metadata": {},
   "outputs": [],
   "source": [
    "# Imports\n",
    "import numpy as np\n",
    "import math\n",
    "from scipy.stats import pearsonr\n",
    "import matplotlib.pyplot as plt\n",
    "\n",
    "from openbabel import openbabel\n",
    "openbabel.OBMessageHandler().SetOutputLevel(0)\n",
    "openbabel.obErrorLog.SetOutputLevel(0)\n",
    "\n",
    "import molgrid\n",
    "import torch\n",
    "from models.default2018_model import default2018_Net\n",
    "from models.gnina_dense_model import Dense"
   ]
  },
  {
   "cell_type": "code",
   "execution_count": 2,
   "id": "f508404a-9337-479b-91de-51826a24432d",
   "metadata": {},
   "outputs": [],
   "source": [
    "# Fix seeds\n",
    "seed=42\n",
    "molgrid.set_random_seed(seed)\n",
    "torch.manual_seed(seed)\n",
    "np.random.seed(seed)\n",
    "\n",
    "# Set CuDNN options for reproducibility\n",
    "torch.backends.cudnn.deterministic = True\n",
    "torch.backends.cudnn.benchmark = False"
   ]
  },
  {
   "cell_type": "code",
   "execution_count": 3,
   "id": "d1b528a2-9ca6-407d-af1b-fb35f6269b68",
   "metadata": {},
   "outputs": [],
   "source": [
    "# Helper function to get predictions and labels\n",
    "def get_predictions_gnina(model, test_file, label_idx=1, pred_idx=-1, batch_size=32, data_root='./'):\n",
    "    ypred_test, y_test = [], []\n",
    "    model.eval()\n",
    "    with torch.no_grad():\n",
    "        e_test = molgrid.ExampleProvider(data_root=data_root,balanced=False,shuffle=False)\n",
    "        e_test.populate(test_file)\n",
    "        gmaker = molgrid.GridMaker()\n",
    "        dims = gmaker.grid_dimensions(e_test.num_types())\n",
    "        tensor_shape = (batch_size,)+dims\n",
    "        input_tensor = torch.zeros(tensor_shape, dtype=torch.float32, device='cuda')\n",
    "        float_labels = torch.zeros(batch_size, dtype=torch.float32)\n",
    "        \n",
    "        num_samples = e_test.size()\n",
    "        num_batches = -(-num_samples // batch_size)\n",
    "        for _ in range(num_batches):\n",
    "            # Load data\n",
    "            batch = e_test.next_batch(batch_size)\n",
    "            batch.extract_label(label_idx, float_labels)\n",
    "            gmaker.forward(batch, input_tensor, random_rotation=False, random_translation=0.0)\n",
    "            # Get prediction\n",
    "            output = model(input_tensor)[pred_idx].detach().cpu().numpy().reshape(-1)\n",
    "            ypred_test.extend(list(output))\n",
    "            # Get labels\n",
    "            y_test.extend(list(float_labels.detach().cpu().numpy()))\n",
    "    ypred_test = np.array(ypred_test)[:num_samples]\n",
    "    y_test = np.array(y_test)[:num_samples]\n",
    "    return ypred_test, y_test"
   ]
  },
  {
   "cell_type": "markdown",
   "id": "7fdd44db-fe5f-4cf1-8ffb-171b0b3b6d1e",
   "metadata": {},
   "source": [
    "# Default2018 - CrossDocked"
   ]
  },
  {
   "cell_type": "markdown",
   "id": "ba372c5a-9b6d-45ad-aea0-bb0f6c28e541",
   "metadata": {},
   "source": [
    "## Predictive performance - CASF-2016"
   ]
  },
  {
   "cell_type": "code",
   "execution_count": 4,
   "id": "38b90de1-991a-4db8-b11d-15afcac3685e",
   "metadata": {},
   "outputs": [
    {
     "name": "stdout",
     "output_type": "stream",
     "text": [
      "Performance default2018 on CASF-2016 - RMSE: 1.550, Pearson: 0.732\n"
     ]
    }
   ],
   "source": [
    "data_name = 'CASF-2016'\n",
    "data_root = f'./data/{data_name}/'\n",
    "\n",
    "dims = (28, 48, 48, 48)\n",
    "model_name = './models/crossdock_default2018.pt'\n",
    "model = default2018_Net(dims).to('cuda')\n",
    "model.load_state_dict(torch.load(model_name))\n",
    "\n",
    "preds, labels = get_predictions_gnina(model, \"./data/CASF-2016/casf_2016_prepared.types\", data_root=data_root)\n",
    "        \n",
    "rmse = np.sqrt(np.mean((labels-preds)**2))\n",
    "corr = pearsonr(preds, labels)[0]\n",
    "\n",
    "print(f'Performance default2018 on {data_name} - RMSE: {rmse:.3f}, Pearson: {corr:.3f}')"
   ]
  },
  {
   "cell_type": "markdown",
   "id": "aa8fd17b-bd79-4df2-ba50-4ca3bee0798b",
   "metadata": {},
   "source": [
    "# Dense"
   ]
  },
  {
   "cell_type": "markdown",
   "id": "4095c81e-7ea4-4da3-8f59-3302e7b835fe",
   "metadata": {},
   "source": [
    "## Predictive performance - CASF-2016"
   ]
  },
  {
   "cell_type": "code",
   "execution_count": null,
   "id": "6c13c27d-bf16-42fa-805a-fbee5ea806fc",
   "metadata": {},
   "outputs": [],
   "source": [
    "data_name = 'CASF-2016'\n",
    "data_root = f'./data/{data_name}/'\n",
    "\n",
    "dims = (28, 48, 48, 48)\n",
    "model_name = './models/crossdock_dense.pt'\n",
    "model = Dense(dims).to('cuda')\n",
    "model.load_state_dict(torch.load(model_name))\n",
    "\n",
    "preds, labels = get_predictions_gnina(model, \"./data/CASF-2016/casf_2016_prepared.types\", data_root=data_root)\n",
    "        \n",
    "rmse = np.sqrt(np.mean((labels-preds)**2))\n",
    "corr = pearsonr(preds, labels)[0]\n",
    "\n",
    "print(f'Performance of dense on {data_name} - RMSE: {rmse:.3f}, Pearson: {corr:.3f}')"
   ]
  }
 ],
 "metadata": {
  "kernelspec": {
   "display_name": "Python 3 (ipykernel)",
   "language": "python",
   "name": "python3"
  },
  "language_info": {
   "codemirror_mode": {
    "name": "ipython",
    "version": 3
   },
   "file_extension": ".py",
   "mimetype": "text/x-python",
   "name": "python",
   "nbconvert_exporter": "python",
   "pygments_lexer": "ipython3",
   "version": "3.11.9"
  }
 },
 "nbformat": 4,
 "nbformat_minor": 5
}
