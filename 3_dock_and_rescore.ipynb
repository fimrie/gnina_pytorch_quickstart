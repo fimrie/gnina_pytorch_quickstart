{
 "cells": [
  {
   "cell_type": "code",
   "execution_count": 1,
   "id": "2837b146-10ad-4245-bd23-e4b30b7f0b99",
   "metadata": {},
   "outputs": [],
   "source": [
    "# Imports\n",
    "import numpy as np\n",
    "import math\n",
    "from scipy.stats import pearsonr\n",
    "import matplotlib.pyplot as plt\n",
    "\n",
    "from openbabel import openbabel\n",
    "openbabel.OBMessageHandler().SetOutputLevel(0)\n",
    "openbabel.obErrorLog.SetOutputLevel(0)\n",
    "\n",
    "from rdkit import Chem\n",
    "from rdkit import RDLogger\n",
    "lg = RDLogger.logger()\n",
    "lg.setLevel(RDLogger.ERROR)\n",
    "\n",
    "import molgrid\n",
    "import torch\n",
    "from models.default2018_model import default2018_Net\n",
    "from models.gnina_dense_model import Dense"
   ]
  },
  {
   "cell_type": "code",
   "execution_count": 2,
   "id": "dd11f625-0deb-4c79-91ef-194e769bd9ea",
   "metadata": {},
   "outputs": [],
   "source": [
    "# Example\n",
    "data_path = './data/LEADS_FRAGS'\n",
    "idx = '1QY2'"
   ]
  },
  {
   "cell_type": "code",
   "execution_count": 3,
   "id": "f16ec883-6c09-453a-b91f-6d81536863c0",
   "metadata": {},
   "outputs": [],
   "source": [
    "seed=42"
   ]
  },
  {
   "cell_type": "markdown",
   "id": "d67b69d5-700e-451a-90ec-24a6d6d94bdd",
   "metadata": {},
   "source": [
    "## Dock with smina"
   ]
  },
  {
   "cell_type": "code",
   "execution_count": 4,
   "id": "1b4d2122-a2f4-48ee-85ef-6ef70d45632f",
   "metadata": {},
   "outputs": [
    {
     "name": "stdout",
     "output_type": "stream",
     "text": [
      "   _______  _______ _________ _        _______ \n",
      "  (  ____ \\(       )\\__   __/( (    /|(  ___  )\n",
      "  | (    \\/| () () |   ) (   |  \\  ( || (   ) |\n",
      "  | (_____ | || || |   | |   |   \\ | || (___) |\n",
      "  (_____  )| |(_)| |   | |   | (\\ \\) ||  ___  |\n",
      "        ) || |   | |   | |   | | \\   || (   ) |\n",
      "  /\\____) || )   ( |___) (___| )  \\  || )   ( |\n",
      "  \\_______)|/     \\|\\_______/|/    )_)|/     \\|\n",
      "\n",
      "\n",
      "smina is based off AutoDock Vina. Please cite appropriately.\n",
      "\n",
      "Weights      Terms\n",
      "-0.035579    gauss(o=0,_w=0.5,_c=8)\n",
      "-0.005156    gauss(o=3,_w=2,_c=8)\n",
      "0.840245     repulsion(o=0,_c=8)\n",
      "-0.035069    hydrophobic(g=0.5,_b=1.5,_c=8)\n",
      "-0.587439    non_dir_h_bond(g=-0.7,_b=0,_c=8)\n",
      "1.923        num_tors_div\n",
      "\n",
      "Using random seed: 42\n",
      "\n",
      "0%   10   20   30   40   50   60   70   80   90   100%\n",
      "|----|----|----|----|----|----|----|----|----|----|\n",
      "***************************************************\n",
      "\n",
      "mode |   affinity | dist from best mode\n",
      "     | (kcal/mol) | rmsd l.b.| rmsd u.b.\n",
      "-----+------------+----------+----------\n",
      "1       -5.7       0.000      0.000    \n",
      "2       -5.7       1.712      3.765    \n",
      "3       -5.6       1.878      3.096    \n",
      "4       -5.2       1.145      3.465    \n",
      "5       -4.9       1.746      3.716    \n",
      "6       -4.8       1.407      3.420    \n",
      "7       -4.6       2.232      3.002    \n",
      "8       -4.6       2.164      4.186    \n",
      "9       -4.4       1.936      4.089    \n",
      "10      -4.4       1.852      2.919    \n",
      "11      -4.3       14.101     15.565   \n",
      "12      -4.2       17.624     19.376   \n",
      "13      -4.2       13.075     14.471   \n",
      "14      -4.2       14.073     15.250   \n",
      "15      -4.1       13.081     14.465   \n",
      "16      -4.1       17.468     19.218   \n",
      "17      -4.1       13.219     14.902   \n",
      "18      -4.0       13.772     15.144   \n",
      "19      -4.0       13.322     14.812   \n",
      "20      -4.0       13.248     14.551   \n",
      "21      -3.9       15.208     16.463   \n",
      "22      -3.9       17.456     18.603   \n",
      "23      -3.9       17.922     19.558   \n",
      "24      -3.9       17.439     18.652   \n",
      "25      -3.9       14.701     15.683   \n",
      "26      -3.8       13.860     15.724   \n",
      "27      -3.8       13.504     15.069   \n",
      "28      -3.8       18.289     19.998   \n",
      "29      -3.8       18.255     20.017   \n",
      "30      -3.8       16.322     18.016   \n",
      "31      -3.8       14.721     15.768   \n",
      "32      -3.7       18.258     19.924   \n",
      "33      -3.7       17.822     18.892   \n",
      "34      -3.7       15.074     16.130   \n",
      "35      -3.7       17.826     19.384   \n",
      "36      -3.6       18.383     20.205   \n",
      "37      -3.6       17.504     18.968   \n",
      "38      -3.6       18.828     20.548   \n",
      "39      -3.6       17.878     19.703   \n",
      "40      -3.6       18.243     19.802   \n",
      "Refine time 2.246\n",
      "Loop time 3.632\n"
     ]
    }
   ],
   "source": [
    "!./smina.static -r \"{data_path}/{idx}/{idx}_receptor.mol2\" -l \"{data_path}/{idx}/{idx}_ligand.mol2\" --autobox_ligand \"{data_path}/{idx}/{idx}_ref-ligand.pdb\" --autobox_add 24 -o \"{data_path}/{idx}/{idx}_docked.sdf\" --exhaustiveness 64 --num_modes 40 --seed {seed}"
   ]
  },
  {
   "cell_type": "code",
   "execution_count": 5,
   "id": "d68d6072-d991-450e-a60c-2a6ae75b610f",
   "metadata": {},
   "outputs": [
    {
     "data": {
      "text/plain": [
       "Text(0, 0.5, 'RMSD')"
      ]
     },
     "execution_count": 5,
     "metadata": {},
     "output_type": "execute_result"
    },
    {
     "data": {
      "image/png": "[encoded data removed]",
      "text/plain": [
       "<Figure size 640x480 with 1 Axes>"
      ]
     },
     "metadata": {},
     "output_type": "display_data"
    }
   ],
   "source": [
    "# Get RMSDs\n",
    "from rmsd_utils import robust_rmsd\n",
    "\n",
    "ref_mol = Chem.MolFromPDBFile(f'{data_path}/{idx}/{idx}_ref-ligand.pdb', removeHs=False)\n",
    "docked_mols = Chem.SDMolSupplier(f'{data_path}/{idx}/{idx}_docked.sdf')\n",
    "\n",
    "rmsds = []\n",
    "for mol in docked_mols:\n",
    "    rmsds.append(robust_rmsd(mol, ref_mol))\n",
    "\n",
    "plt.scatter(range(len(rmsds)), rmsds)\n",
    "plt.xlabel('smina Rank')\n",
    "plt.ylabel('RMSD')"
   ]
  },
  {
   "cell_type": "markdown",
   "id": "759caa8a-167f-49b0-ba12-9886f36d8a6a",
   "metadata": {},
   "source": [
    "## Rerank with gnina"
   ]
  },
  {
   "cell_type": "code",
   "execution_count": 6,
   "id": "1c06c04f-dddc-48b2-8729-0597ecdedf5c",
   "metadata": {},
   "outputs": [],
   "source": [
    "# Fix seeds\n",
    "molgrid.set_random_seed(seed)\n",
    "torch.manual_seed(seed)\n",
    "np.random.seed(seed)\n",
    "\n",
    "# Set CuDNN options for reproducibility\n",
    "torch.backends.cudnn.deterministic = True\n",
    "torch.backends.cudnn.benchmark = False"
   ]
  },
  {
   "cell_type": "code",
   "execution_count": 7,
   "id": "74ace1e1-7534-4efa-8ac8-6d7e2db18eee",
   "metadata": {},
   "outputs": [],
   "source": [
    "# Prepare .types file (note gnina needs separate SDF per molecule)\n",
    "docked_mols = Chem.SDMolSupplier(f'{data_path}/{idx}/{idx}_docked.sdf')\n",
    "\n",
    "with open(f'tmp_types_{idx}.types', 'w') as f:\n",
    "    for i, (mol, rmsd) in enumerate(zip(docked_mols, rmsds)):\n",
    "        if mol is None: \n",
    "            continue\n",
    "        # Write types file\n",
    "        f.write(f'{rmsd<=2:d} {rmsd:.2f} {data_path}/{idx}/{idx}_receptor.mol2 {data_path}/{idx}/{idx}_docked_{i}.sdf\\n')\n",
    "        # Save mol as separate file\n",
    "        with Chem.SDWriter(f'{data_path}/{idx}/{idx}_docked_{i}.sdf') as writer:\n",
    "            writer.write(mol)"
   ]
  },
  {
   "cell_type": "code",
   "execution_count": 8,
   "id": "61c317f5-a5ce-45bd-a5c1-6647c0499f65",
   "metadata": {},
   "outputs": [],
   "source": [
    "# Helper function to get predictions and labels\n",
    "def get_predictions_gnina(model, test_file, label_idx=1, pred_idx=-1, batch_size=32, data_root='./'):\n",
    "    ypred_test, y_test = [], []\n",
    "    model.eval()\n",
    "    with torch.no_grad():\n",
    "        e_test = molgrid.ExampleProvider(data_root=data_root,balanced=False,shuffle=False)\n",
    "        e_test.populate(test_file)\n",
    "        gmaker = molgrid.GridMaker()\n",
    "        dims = gmaker.grid_dimensions(e_test.num_types())\n",
    "        tensor_shape = (batch_size,)+dims\n",
    "        input_tensor = torch.zeros(tensor_shape, dtype=torch.float32, device='cuda')\n",
    "        float_labels = torch.zeros(batch_size, dtype=torch.float32)\n",
    "        \n",
    "        num_samples = e_test.size()\n",
    "        num_batches = -(-num_samples // batch_size)\n",
    "        for _ in range(num_batches):\n",
    "            # Load data\n",
    "            batch = e_test.next_batch(batch_size)\n",
    "            batch.extract_label(label_idx, float_labels)\n",
    "            gmaker.forward(batch, input_tensor, random_rotation=False, random_translation=0.0)\n",
    "            # Get prediction\n",
    "            output = model(input_tensor)[pred_idx].detach().cpu().numpy().reshape(-1)\n",
    "            ypred_test.extend(list(output))\n",
    "            # Get labels\n",
    "            y_test.extend(list(float_labels.detach().cpu().numpy()))\n",
    "    ypred_test = np.array(ypred_test)[:num_samples]\n",
    "    y_test = np.array(y_test)[:num_samples]\n",
    "    return ypred_test, y_test"
   ]
  },
  {
   "cell_type": "code",
   "execution_count": 9,
   "id": "1d6bb7bc-79d8-4873-bdf8-88c7f7fb9c87",
   "metadata": {},
   "outputs": [],
   "source": [
    "dims = (28, 48, 48, 48)\n",
    "model_name = './models/crossdock_default2018.pt'\n",
    "model = default2018_Net(dims).to('cuda')\n",
    "model.load_state_dict(torch.load(model_name))\n",
    "\n",
    "# Get predictions (pred_idx=0 for pose score, pred_idx=1 for affinity score)\n",
    "preds, labels = get_predictions_gnina(model, f'tmp_types_{idx}.types', label_idx=1, pred_idx=0, data_root='./')"
   ]
  },
  {
   "cell_type": "code",
   "execution_count": 10,
   "id": "44e58ce1-292c-4771-b526-77e74e176345",
   "metadata": {},
   "outputs": [
    {
     "name": "stdout",
     "output_type": "stream",
     "text": [
      "Success possible: True\n",
      "\tsmina first success: 3\n",
      "\tgnina first success: 1\n"
     ]
    }
   ],
   "source": [
    "# Assess performance\n",
    "print(f'Success possible: {min(rmsds)<=2}')\n",
    "if min(rmsds)<=2:\n",
    "    print(f'\\tsmina first success: {np.argmax(np.array(rmsds)<=2)+1}')\n",
    "    print(f'\\tgnina first success: {np.argmax(np.array([l for _, l in sorted(zip(preds, labels), reverse=True)])<=2)+1}')"
   ]
  }
 ],
 "metadata": {
  "kernelspec": {
   "display_name": "Python 3 (ipykernel)",
   "language": "python",
   "name": "python3"
  },
  "language_info": {
   "codemirror_mode": {
    "name": "ipython",
    "version": 3
   },
   "file_extension": ".py",
   "mimetype": "text/x-python",
   "name": "python",
   "nbconvert_exporter": "python",
   "pygments_lexer": "ipython3",
   "version": "3.11.9"
  }
 },
 "nbformat": 4,
 "nbformat_minor": 5
}
